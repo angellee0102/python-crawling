{
 "cells": [
  {
   "cell_type": "code",
   "execution_count": null,
   "metadata": {},
   "outputs": [],
   "source": [
    "import urllib.request as req\n",
    "import bs4\n",
    "import pandas as pd\n",
    "\n",
    "url=\"https://tie.twtm.com.tw/WebPage/Technomart.aspx\"\n",
    "request=req.Request(url, headers={\n",
    "    \"User-Agent\":\"Mozilla/5.0 (Macintosh; Intel Mac OS X 10_14_6) AppleWebKit/537.36 (KHTML, like Gecko) Chrome/77.0.3865.75 Safari/537.36\"\n",
    "})\n",
    "with req.urlopen(request) as response:\n",
    "    data=response.read().decode(\"utf-8\")\n",
    "root=bs4.BeautifulSoup(data,\"html.parser\")\n",
    "titles=root.find_all(\"div\",class_=\"stripeMeSLV margin5T margin10B\")\n",
    "\n",
    "# print(titles)\n",
    "for title in titles:\n",
    "    if title.a != None:\n",
    "        # print(title.a.string)\n",
    "        print(title.a.tt_id)\n",
    "\n",
    "table=root.find_all('table',id=\"ContentPlaceHolder2_sgvTech\")\n",
    "\n",
    "print(len(table[0].find_all(\"tr\")))\n",
    "\n",
    "rawTable=table[0].find_all(\"tr\")\n",
    "for row in rawTable:\n",
    "    # if row.td!=None:\n",
    "        # 專利技術名稱\n",
    "        # print(row.td.a.string)\n",
    "    columns=row.find_all('td')\n",
    "    for column in columns:\n",
    "        print(column.get_text())\n",
    "\n",
    "\n",
    "import selenium\n",
    "from selenium import webdriver\n",
    "from selenium.webdriver.common.keys import Keys\n",
    "from selenium.webdriver.common.by import By\n",
    "import time\n",
    "options = webdriver.ChromeOptions()\n",
    "options.add_argument('--ignore-certificate-errors')\n",
    "options.add_argument('--incognito')\n",
    "#options.add_argument('--headless')\n",
    "options.add_argument('user-agent=\"Mozilla/5.0 (Macintosh; Intel Mac OS X 10_14_5) AppleWebKit/537.36 (KHTML, like Gecko) Chrome/75.0.3770.142 Safari/537.36')\n",
    "driver = webdriver.Chrome(\"/Users/lee/Downloads/chromedriver\", options=options)\n",
    "\n",
    "driver.get(url)\n",
    "table = driver.find_element_by_id('ContentPlaceHolder2_sgvTech')\n",
    "# print('table',table)\n",
    "# table_html = table.get_attribute('innerHTML')\n",
    "\n",
    "# from pandas.io.html import read_html\n",
    "# df = read_html(table_html)[0]\n",
    "# print (df)\n",
    "df=pd.DataFrame(columns=['專利技術名稱','流通方式','應用領域','功能'])\n",
    "\n",
    "\n",
    "pages=55\n",
    "list_data=[['專利技術名稱','流通方式','應用領域','功能']]\n",
    "for page in range(2,pages-1):\n",
    "#     print(page)\n",
    "    driver.find_element_by_xpath('(//table[@id=\"ContentPlaceHolder2_sgvTech\"]//tbody//tr)[last()]//td//a[contains(text(),\"'+str(page)+'\")]').click()\n",
    "    time.sleep(3)\n",
    "    tbody=driver.find_element_by_xpath('//table[@id=\"ContentPlaceHolder2_sgvTech\"]//tbody')\n",
    "    \n",
    "    for row in tbody.find_elements_by_xpath(\".//tr\"):\n",
    "        content=[td.text for td in row.find_elements_by_xpath(\".//td\")]\n",
    "        print(content)\n",
    "        list_data.append(content)\n",
    "#         print(type([td.text for td in row.find_elements_by_xpath(\".//td\")]))\n",
    "    df=pd.DataFrame(list_data,columns=['專利技術名稱','流通方式','應用領域','功能'])\n",
    "#     print(df)\n",
    "driver.close()\n",
    "\n",
    "df=pd.DataFrame(list_data,columns=['專利技術名稱','流通方式','應用領域','功能'])"
   ]
  },
  {
   "cell_type": "code",
   "execution_count": null,
   "metadata": {},
   "outputs": [],
   "source": [
    "df"
   ]
  },
  {
   "cell_type": "code",
   "execution_count": null,
   "metadata": {},
   "outputs": [],
   "source": [
    "df.to_csv('參展技術.csv',index=False)"
   ]
  },
  {
   "cell_type": "code",
   "execution_count": null,
   "metadata": {},
   "outputs": [],
   "source": [
    "先進製造系統=df[df['應用領域'].str.contains(\"先進製造系統\", na=False)]\n",
    "先進製造系統.to_csv('先進製造系統.csv',index=False)"
   ]
  },
  {
   "cell_type": "code",
   "execution_count": null,
   "metadata": {},
   "outputs": [],
   "source": [
    "df1=pd.read_csv('參展技術.csv')\n",
    "areas=['資訊與通訊','電子與光電','材料化工與奈米','生技與醫藥','先進製造系統','能源與環境','生活應用','農業相關']\n",
    "for title in areas:\n",
    "    table=df1[df1['應用領域'].str.contains(title, na=False)]\n",
    "    table=table.drop(columns=[ '功能'])\n",
    "    pathname=title+'.csv'\n",
    "    table.to_csv(pathname,index=False)\n",
    "    "
   ]
  },
  {
   "cell_type": "code",
   "execution_count": null,
   "metadata": {},
   "outputs": [],
   "source": [
    "熱塑高分子無機粉體分散相驗證及失效分析平台,非專屬授權,材料化工與奈米\n",
    "含顆粒無菌包裝飲品製程研發技術與試量產服務平台,合作開發,生技與醫藥、生活應用\n",
    "3D列印多孔金屬骨材,專屬授權、非專屬授權、合作開發,材料化工與奈米、生技與醫藥\n",
    "微波複合能源烹調系統之最佳化設計與整合技術,非專屬授權,資訊與通訊、生技與醫藥\n",
    "無人搬運載具,專屬授權、非專屬授權、合作開發,資訊與通訊、先進製造系統\n",
    "深層海水微生物優化培育技術,合作開發,生技與醫藥、農業相關\n",
    "小貝智能機器人／Bobby波比智能帶屏能音箱,專屬授權、合作開發、其他: (零售、代理),資訊與通訊、生活應用\n",
    "『Chameleon』工業物聯網閘道與AI edge技術,其他: ,材料化工與奈米\n",
    "低風阻彈壓織物技術,非專屬授權,材料化工與奈米\n",
    "糖尿病視網膜病變診斷輔助分析系統,非專屬授權、合作開發,生技與醫藥\n"
   ]
  },
  {
   "cell_type": "code",
   "execution_count": null,
   "metadata": {},
   "outputs": [],
   "source": []
  }
 ],
 "metadata": {
  "kernelspec": {
   "display_name": "Python 3",
   "language": "python",
   "name": "python3"
  },
  "language_info": {
   "codemirror_mode": {
    "name": "ipython",
    "version": 3
   },
   "file_extension": ".py",
   "mimetype": "text/x-python",
   "name": "python",
   "nbconvert_exporter": "python",
   "pygments_lexer": "ipython3",
   "version": "3.7.4"
  }
 },
 "nbformat": 4,
 "nbformat_minor": 2
}
